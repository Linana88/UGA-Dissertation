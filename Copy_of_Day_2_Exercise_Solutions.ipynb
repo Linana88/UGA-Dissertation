{
  "nbformat": 4,
  "nbformat_minor": 0,
  "metadata": {
    "colab": {
      "name": "Copy of Day-2-Exercise-Solutions.ipynb",
      "provenance": [],
      "collapsed_sections": [],
      "toc_visible": true,
      "include_colab_link": true
    },
    "kernelspec": {
      "name": "python3",
      "display_name": "Python 3"
    }
  },
  "cells": [
    {
      "cell_type": "markdown",
      "metadata": {
        "id": "view-in-github",
        "colab_type": "text"
      },
      "source": [
        "<a href=\"https://colab.research.google.com/github/Linana88/UGA-Dissertation/blob/master/Copy_of_Day_2_Exercise_Solutions.ipynb\" target=\"_parent\"><img src=\"https://colab.research.google.com/assets/colab-badge.svg\" alt=\"Open In Colab\"/></a>"
      ]
    },
    {
      "cell_type": "markdown",
      "source": [
        "# Exercise 2.0\n",
        "\n",
        "Consider the following matrix **A**: \n",
        "$$\n",
        "  A = \n",
        "  \\begin{pmatrix}\n",
        "    \\mathbf{1} & \\mathbf{2}\\\\\n",
        "    3 & 4\\\\\n",
        "    \\mathbf{5} & \\mathbf{6}\n",
        "  \\end{pmatrix}\n",
        "$$\n",
        "\n",
        "1. Create a NumPy array called 'arr' that has the same dimensions as the matrix **A**. Print out 'arr' and the dimensions of 'arr' using the 'shape' function.\n",
        "\n",
        "2. Retreive rows 1 and 3 from the array and print them out."
      ],
      "metadata": {
        "id": "VQehgIOiAIqo"
      }
    },
    {
      "cell_type": "code",
      "source": [
        "import numpy as np\n",
        "\n",
        "arr = np.array([[1,2],[3,4],[5,6]])\n",
        "print(arr)\n",
        "arr.shape\n",
        "\n"
      ],
      "metadata": {
        "id": "tMwURDWVALhV"
      },
      "execution_count": null,
      "outputs": []
    },
    {
      "cell_type": "code",
      "source": [
        "# 2\n",
        "\n",
        "print( arr[2,0:2], arr[0,0:2])"
      ],
      "metadata": {
        "colab": {
          "base_uri": "https://localhost:8080/"
        },
        "id": "AE8-CpNXYlCZ",
        "outputId": "ab6450e9-e46b-4736-c317-906f7d23806c"
      },
      "execution_count": null,
      "outputs": [
        {
          "output_type": "stream",
          "name": "stdout",
          "text": [
            "[5 6] [1 2]\n"
          ]
        }
      ]
    },
    {
      "cell_type": "markdown",
      "source": [
        "## Justin Faucette's Solution"
      ],
      "metadata": {
        "id": "IZcLAVlwaXev"
      }
    },
    {
      "cell_type": "code",
      "source": [
        "print('Matrix\\n', arr, '\\n\\nShape', arr.shape,'Line 1',arr[0,],'Line 3',arr[2,])"
      ],
      "metadata": {
        "colab": {
          "base_uri": "https://localhost:8080/"
        },
        "id": "Y4n3wl4AaebQ",
        "outputId": "48df21b5-9b3d-4c28-a323-0481ed5a6a9c"
      },
      "execution_count": null,
      "outputs": [
        {
          "output_type": "stream",
          "name": "stdout",
          "text": [
            "Matrix\n",
            " [[1 2]\n",
            " [3 4]\n",
            " [5 6]] \n",
            "\n",
            "Shape (3, 2) Line 1 [1 2] Line 3 [5 6]\n"
          ]
        }
      ]
    },
    {
      "cell_type": "markdown",
      "source": [
        "## Kagiso More's Solution"
      ],
      "metadata": {
        "id": "9BufAW2rahq9"
      }
    },
    {
      "cell_type": "code",
      "source": [
        "r1 = arr[0, 0:2] #row 1\n",
        "r3 = arr[2, 0:2] # row 3\n",
        "print(r1, r3)"
      ],
      "metadata": {
        "colab": {
          "base_uri": "https://localhost:8080/"
        },
        "id": "e9U6CqEbanPt",
        "outputId": "cfd519c7-80de-4676-96d5-4297502dd00c"
      },
      "execution_count": null,
      "outputs": [
        {
          "output_type": "stream",
          "name": "stdout",
          "text": [
            "[1 2] [5 6]\n"
          ]
        }
      ]
    },
    {
      "cell_type": "markdown",
      "metadata": {
        "id": "ZRRMq-NDFjmT"
      },
      "source": [
        "# [**Exercise 2.1**]\n",
        "\n",
        "The **Population Reference Bureau** collects international and US data on fertlity, births, deaths and other population issues: https://www.prb.org/data/. \n",
        "\n",
        "This data is available directly from GitHub and there are ALOT of datasets available. Here is just a sample from the US alone: https://github.com/datasets/population-reference-bureau/tree/master/data/us.\n",
        "\n",
        "We will be doing an exercise with US fertility data: https://raw.githubusercontent.com/datasets/population-reference-bureau/master/data/us/fertility/data/us-fertility.csv\n",
        "\n",
        "1. Import this dataset as a Pandas dataframe called \"fertility\".\n",
        "2. For the \"Data\" variable, calculate:\n",
        "\n",
        "- the average \n",
        "- median and;\n",
        "- standard deviation\n",
        "\n",
        "and print each on a new line with the word: 'Average', 'Median' and 'Std. Dev.' right about each.\n",
        "\n",
        "3.  Using the function \".value_counts()\" print out frequency counts of each of the states and each of the years."
      ]
    },
    {
      "cell_type": "code",
      "metadata": {
        "id": "mcHO028vMTxX",
        "outputId": "9c7068fe-5285-4ead-d617-81a8623c600e",
        "colab": {
          "base_uri": "https://localhost:8080/",
          "height": 363
        }
      },
      "source": [
        "######################################################################\n",
        "######################################################################\n",
        "######################################################################\n",
        "# Place your code here\n",
        "######################################################################\n",
        "######################################################################\n",
        "######################################################################\n",
        "\n",
        "import pandas as pd\n",
        "\n",
        "# 1\n",
        "\n",
        "fertility = pd.read_csv('https://raw.githubusercontent.com/datasets/population-reference-bureau/master/data/us/fertility/data/us-fertility.csv')\n",
        "fertility.head(10)\n",
        "\n",
        "\n"
      ],
      "execution_count": null,
      "outputs": [
        {
          "output_type": "execute_result",
          "data": {
            "text/plain": [
              "    Type  TimeFrame  Data    NameFIPS\n",
              "0  State       2000  2.02  Alabama 01\n",
              "1  State       2001  1.94  Alabama 01\n",
              "2  State       2002  1.88  Alabama 01\n",
              "3  State       2003  1.92  Alabama 01\n",
              "4  State       2004  1.91  Alabama 01\n",
              "5  State       2005  1.93  Alabama 01\n",
              "6  State       2006  2.03  Alabama 01\n",
              "7  State       2007  2.07  Alabama 01\n",
              "8  State       2008  2.06  Alabama 01\n",
              "9  State       2009  1.96  Alabama 01"
            ],
            "text/html": [
              "\n",
              "  <div id=\"df-1b761818-eb35-49a3-a57b-42cda3d74a89\">\n",
              "    <div class=\"colab-df-container\">\n",
              "      <div>\n",
              "<style scoped>\n",
              "    .dataframe tbody tr th:only-of-type {\n",
              "        vertical-align: middle;\n",
              "    }\n",
              "\n",
              "    .dataframe tbody tr th {\n",
              "        vertical-align: top;\n",
              "    }\n",
              "\n",
              "    .dataframe thead th {\n",
              "        text-align: right;\n",
              "    }\n",
              "</style>\n",
              "<table border=\"1\" class=\"dataframe\">\n",
              "  <thead>\n",
              "    <tr style=\"text-align: right;\">\n",
              "      <th></th>\n",
              "      <th>Type</th>\n",
              "      <th>TimeFrame</th>\n",
              "      <th>Data</th>\n",
              "      <th>NameFIPS</th>\n",
              "    </tr>\n",
              "  </thead>\n",
              "  <tbody>\n",
              "    <tr>\n",
              "      <th>0</th>\n",
              "      <td>State</td>\n",
              "      <td>2000</td>\n",
              "      <td>2.02</td>\n",
              "      <td>Alabama 01</td>\n",
              "    </tr>\n",
              "    <tr>\n",
              "      <th>1</th>\n",
              "      <td>State</td>\n",
              "      <td>2001</td>\n",
              "      <td>1.94</td>\n",
              "      <td>Alabama 01</td>\n",
              "    </tr>\n",
              "    <tr>\n",
              "      <th>2</th>\n",
              "      <td>State</td>\n",
              "      <td>2002</td>\n",
              "      <td>1.88</td>\n",
              "      <td>Alabama 01</td>\n",
              "    </tr>\n",
              "    <tr>\n",
              "      <th>3</th>\n",
              "      <td>State</td>\n",
              "      <td>2003</td>\n",
              "      <td>1.92</td>\n",
              "      <td>Alabama 01</td>\n",
              "    </tr>\n",
              "    <tr>\n",
              "      <th>4</th>\n",
              "      <td>State</td>\n",
              "      <td>2004</td>\n",
              "      <td>1.91</td>\n",
              "      <td>Alabama 01</td>\n",
              "    </tr>\n",
              "    <tr>\n",
              "      <th>5</th>\n",
              "      <td>State</td>\n",
              "      <td>2005</td>\n",
              "      <td>1.93</td>\n",
              "      <td>Alabama 01</td>\n",
              "    </tr>\n",
              "    <tr>\n",
              "      <th>6</th>\n",
              "      <td>State</td>\n",
              "      <td>2006</td>\n",
              "      <td>2.03</td>\n",
              "      <td>Alabama 01</td>\n",
              "    </tr>\n",
              "    <tr>\n",
              "      <th>7</th>\n",
              "      <td>State</td>\n",
              "      <td>2007</td>\n",
              "      <td>2.07</td>\n",
              "      <td>Alabama 01</td>\n",
              "    </tr>\n",
              "    <tr>\n",
              "      <th>8</th>\n",
              "      <td>State</td>\n",
              "      <td>2008</td>\n",
              "      <td>2.06</td>\n",
              "      <td>Alabama 01</td>\n",
              "    </tr>\n",
              "    <tr>\n",
              "      <th>9</th>\n",
              "      <td>State</td>\n",
              "      <td>2009</td>\n",
              "      <td>1.96</td>\n",
              "      <td>Alabama 01</td>\n",
              "    </tr>\n",
              "  </tbody>\n",
              "</table>\n",
              "</div>\n",
              "      <button class=\"colab-df-convert\" onclick=\"convertToInteractive('df-1b761818-eb35-49a3-a57b-42cda3d74a89')\"\n",
              "              title=\"Convert this dataframe to an interactive table.\"\n",
              "              style=\"display:none;\">\n",
              "        \n",
              "  <svg xmlns=\"http://www.w3.org/2000/svg\" height=\"24px\"viewBox=\"0 0 24 24\"\n",
              "       width=\"24px\">\n",
              "    <path d=\"M0 0h24v24H0V0z\" fill=\"none\"/>\n",
              "    <path d=\"M18.56 5.44l.94 2.06.94-2.06 2.06-.94-2.06-.94-.94-2.06-.94 2.06-2.06.94zm-11 1L8.5 8.5l.94-2.06 2.06-.94-2.06-.94L8.5 2.5l-.94 2.06-2.06.94zm10 10l.94 2.06.94-2.06 2.06-.94-2.06-.94-.94-2.06-.94 2.06-2.06.94z\"/><path d=\"M17.41 7.96l-1.37-1.37c-.4-.4-.92-.59-1.43-.59-.52 0-1.04.2-1.43.59L10.3 9.45l-7.72 7.72c-.78.78-.78 2.05 0 2.83L4 21.41c.39.39.9.59 1.41.59.51 0 1.02-.2 1.41-.59l7.78-7.78 2.81-2.81c.8-.78.8-2.07 0-2.86zM5.41 20L4 18.59l7.72-7.72 1.47 1.35L5.41 20z\"/>\n",
              "  </svg>\n",
              "      </button>\n",
              "      \n",
              "  <style>\n",
              "    .colab-df-container {\n",
              "      display:flex;\n",
              "      flex-wrap:wrap;\n",
              "      gap: 12px;\n",
              "    }\n",
              "\n",
              "    .colab-df-convert {\n",
              "      background-color: #E8F0FE;\n",
              "      border: none;\n",
              "      border-radius: 50%;\n",
              "      cursor: pointer;\n",
              "      display: none;\n",
              "      fill: #1967D2;\n",
              "      height: 32px;\n",
              "      padding: 0 0 0 0;\n",
              "      width: 32px;\n",
              "    }\n",
              "\n",
              "    .colab-df-convert:hover {\n",
              "      background-color: #E2EBFA;\n",
              "      box-shadow: 0px 1px 2px rgba(60, 64, 67, 0.3), 0px 1px 3px 1px rgba(60, 64, 67, 0.15);\n",
              "      fill: #174EA6;\n",
              "    }\n",
              "\n",
              "    [theme=dark] .colab-df-convert {\n",
              "      background-color: #3B4455;\n",
              "      fill: #D2E3FC;\n",
              "    }\n",
              "\n",
              "    [theme=dark] .colab-df-convert:hover {\n",
              "      background-color: #434B5C;\n",
              "      box-shadow: 0px 1px 3px 1px rgba(0, 0, 0, 0.15);\n",
              "      filter: drop-shadow(0px 1px 2px rgba(0, 0, 0, 0.3));\n",
              "      fill: #FFFFFF;\n",
              "    }\n",
              "  </style>\n",
              "\n",
              "      <script>\n",
              "        const buttonEl =\n",
              "          document.querySelector('#df-1b761818-eb35-49a3-a57b-42cda3d74a89 button.colab-df-convert');\n",
              "        buttonEl.style.display =\n",
              "          google.colab.kernel.accessAllowed ? 'block' : 'none';\n",
              "\n",
              "        async function convertToInteractive(key) {\n",
              "          const element = document.querySelector('#df-1b761818-eb35-49a3-a57b-42cda3d74a89');\n",
              "          const dataTable =\n",
              "            await google.colab.kernel.invokeFunction('convertToInteractive',\n",
              "                                                     [key], {});\n",
              "          if (!dataTable) return;\n",
              "\n",
              "          const docLinkHtml = 'Like what you see? Visit the ' +\n",
              "            '<a target=\"_blank\" href=https://colab.research.google.com/notebooks/data_table.ipynb>data table notebook</a>'\n",
              "            + ' to learn more about interactive tables.';\n",
              "          element.innerHTML = '';\n",
              "          dataTable['output_type'] = 'display_data';\n",
              "          await google.colab.output.renderOutput(dataTable, element);\n",
              "          const docLink = document.createElement('div');\n",
              "          docLink.innerHTML = docLinkHtml;\n",
              "          element.appendChild(docLink);\n",
              "        }\n",
              "      </script>\n",
              "    </div>\n",
              "  </div>\n",
              "  "
            ]
          },
          "metadata": {},
          "execution_count": 3
        }
      ]
    },
    {
      "cell_type": "code",
      "source": [
        "# 2\n",
        "round(fertility['Data'].mean(), 2)\n",
        "fertility['Data'].median()\n",
        "fertility['Data'].describe()"
      ],
      "metadata": {
        "colab": {
          "base_uri": "https://localhost:8080/"
        },
        "id": "Mr-ncqCmZC6m",
        "outputId": "b4968be5-f774-43f7-fccb-3ecbc3731698"
      },
      "execution_count": null,
      "outputs": [
        {
          "output_type": "execute_result",
          "data": {
            "text/plain": [
              "count    936.000000\n",
              "mean       1.974551\n",
              "std        0.211957\n",
              "min        1.420000\n",
              "25%        1.830000\n",
              "50%        1.960000\n",
              "75%        2.110000\n",
              "max        2.760000\n",
              "Name: Data, dtype: float64"
            ]
          },
          "metadata": {},
          "execution_count": 4
        }
      ]
    },
    {
      "cell_type": "code",
      "source": [
        "# 3\n",
        "fertility['NameFIPS'].value_counts()\n",
        "fertility['TimeFrame'].value_counts()"
      ],
      "metadata": {
        "colab": {
          "base_uri": "https://localhost:8080/"
        },
        "id": "tgeJ5gYuZHGa",
        "outputId": "07537cad-de68-4c09-88f2-b7636a8b9fc6"
      },
      "execution_count": null,
      "outputs": [
        {
          "output_type": "execute_result",
          "data": {
            "text/plain": [
              "2000    52\n",
              "2001    52\n",
              "2016    52\n",
              "2015    52\n",
              "2014    52\n",
              "2013    52\n",
              "2012    52\n",
              "2011    52\n",
              "2010    52\n",
              "2009    52\n",
              "2008    52\n",
              "2007    52\n",
              "2006    52\n",
              "2005    52\n",
              "2004    52\n",
              "2003    52\n",
              "2002    52\n",
              "2017    52\n",
              "Name: TimeFrame, dtype: int64"
            ]
          },
          "metadata": {},
          "execution_count": 5
        }
      ]
    },
    {
      "cell_type": "code",
      "metadata": {
        "id": "6T0rJVYW5zkn",
        "outputId": "7927c62c-f09b-4bf4-810a-ca77025305e8",
        "colab": {
          "base_uri": "https://localhost:8080/",
          "height": 174
        }
      },
      "source": [
        "le_female['Value'].describe().round(3) # Rounding to the third decimal place"
      ],
      "execution_count": null,
      "outputs": [
        {
          "output_type": "execute_result",
          "data": {
            "text/plain": [
              "count    988.000\n",
              "mean      81.280\n",
              "std        1.886\n",
              "min       77.400\n",
              "25%       79.900\n",
              "50%       81.100\n",
              "75%       82.650\n",
              "max       86.700\n",
              "Name: Value, dtype: float64"
            ]
          },
          "metadata": {
            "tags": []
          },
          "execution_count": 2
        }
      ]
    },
    {
      "cell_type": "code",
      "metadata": {
        "id": "KGWET-Ko1G4j",
        "outputId": "f6a9459b-2bec-4843-9ef4-2d98e97f28f3",
        "colab": {
          "base_uri": "https://localhost:8080/",
          "height": 120
        }
      },
      "source": [
        "# Save the results in a new object\n",
        "le_descriptives = le_female['Value'].describe().round(3)\n",
        "\n",
        "# Printing the results out\n",
        "print('Mean \\n',le_descriptives[1],'\\n', 'Median\\n',le_descriptives[4],'\\n','Std. Dev.\\n',le_descriptives[2]   )"
      ],
      "execution_count": null,
      "outputs": [
        {
          "output_type": "stream",
          "text": [
            "Mean \n",
            " 81.28 \n",
            " Median\n",
            " 79.9 \n",
            " Std. Dev.\n",
            " 1.886\n"
          ],
          "name": "stdout"
        }
      ]
    },
    {
      "cell_type": "markdown",
      "metadata": {
        "id": "0pE3qM_7M-s2"
      },
      "source": [
        ""
      ]
    },
    {
      "cell_type": "markdown",
      "metadata": {
        "id": "cmfduOgmutE2"
      },
      "source": [
        "# [**Exercise 2.2**]\n",
        "\n",
        "The **Population Reference Bureau** collects international and US data on fertlity, births, deaths and other population issues: https://www.prb.org/data/. \n",
        "\n",
        "This data is available directly from GitHub and there are ALOT of datasets available. Here is just a sample from the US alone: https://github.com/datasets/population-reference-bureau/tree/master/data/us.\n",
        "\n",
        "We will be doing an exercise with US fertility data: https://raw.githubusercontent.com/datasets/population-reference-bureau/master/data/us/fertility/data/us-fertility.csv\n",
        "\n",
        "### **Questions**\n",
        "\n",
        "1.  Using Pandas, import the US fertility dataset as a dataframe and call it \"fertility\".\n",
        "\n",
        "3. Calculate average fertility across all states for each year between 2000-2017.\n",
        "\n",
        "4. Calculate average fertility across all years for each state between 2000-2017.\n",
        "\n",
        "5. Create a new dataframe called 'southdata' which contains only fertility data from Georgia, South Carolina and Florida and use the \"head()\" function to print out the first 5 observations of this dataset.\n",
        "\n",
        "6. Using the 'southdata' dataframe, create a new subset called 'southsubset' which contains only the first 20 rows and the 4th column of the southdata dataframe. \n",
        "\n",
        "7. BONUS - download the southdata dataframe to your desktop."
      ]
    },
    {
      "cell_type": "code",
      "metadata": {
        "id": "m3-u09sfiJel",
        "outputId": "0677041d-2619-4dbe-f557-a49d004493c3",
        "colab": {
          "base_uri": "https://localhost:8080/",
          "height": 17
        }
      },
      "source": [
        "######################################################################\n",
        "######################################################################\n",
        "######################################################################\n",
        "# Place your code here\n",
        "######################################################################\n",
        "######################################################################\n",
        "######################################################################\n",
        "import pandas as pd\n",
        "\n",
        "\n",
        "\n",
        "#1.  Using Pandas, import the US fertility dataset as a dataframe and call it \"fertility\".\n",
        "fertility = pd.read_csv('https://raw.githubusercontent.com/datasets/population-reference-bureau/master/data/us/fertility/data/us-fertility.csv')\n",
        "\n",
        "#2. Calculate average fertility across all states for each year between 2000-2017.\n",
        "fertility.groupby(['TimeFrame']).mean()\n",
        "\n",
        "#3. Calculate average fertility across all years for each state between 2000-2017.\n",
        "fertility.groupby(['NameFIPS']).mean()\n",
        "\n",
        "#4. Create a new dataframe called 'southdata' which contains only fertility data from Georgia, South Carolina and Florida and \n",
        "#use the \"head()\" function to print out the first 5 observations of this dataset.\n",
        "\n",
        "southdata = fertility.loc[(fertility['NameFIPS'] == 'Georgia 13') | (fertility['NameFIPS'] == 'South Carolina 45') |(fertility['NameFIPS'] == 'Florida 12') ]\n",
        "southdata.head()\n",
        "\n",
        "#5. Using the 'southdata' dataframe, create a new subset called 'southsubset' which contains only the first 20 rows and the 4th column of the southdata dataframe. \n",
        "\n",
        "southsubset = southdata.iloc[0:20,3]\n",
        "southsubset.head()\n",
        "\n",
        "# Download the southdata dataframe to your desktop\n",
        "from google.colab import files\n",
        "\n",
        "southdata.to_csv('southdata.csv')\n",
        "files.download('southdata.csv')\n",
        "\n",
        "\n",
        "\n",
        "\n",
        "\n",
        "\n"
      ],
      "execution_count": null,
      "outputs": [
        {
          "output_type": "display_data",
          "data": {
            "text/plain": [
              "<IPython.core.display.Javascript object>"
            ],
            "application/javascript": [
              "\n",
              "    async function download(id, filename, size) {\n",
              "      if (!google.colab.kernel.accessAllowed) {\n",
              "        return;\n",
              "      }\n",
              "      const div = document.createElement('div');\n",
              "      const label = document.createElement('label');\n",
              "      label.textContent = `Downloading \"${filename}\": `;\n",
              "      div.appendChild(label);\n",
              "      const progress = document.createElement('progress');\n",
              "      progress.max = size;\n",
              "      div.appendChild(progress);\n",
              "      document.body.appendChild(div);\n",
              "\n",
              "      const buffers = [];\n",
              "      let downloaded = 0;\n",
              "\n",
              "      const channel = await google.colab.kernel.comms.open(id);\n",
              "      // Send a message to notify the kernel that we're ready.\n",
              "      channel.send({})\n",
              "\n",
              "      for await (const message of channel.messages) {\n",
              "        // Send a message to notify the kernel that we're ready.\n",
              "        channel.send({})\n",
              "        if (message.buffers) {\n",
              "          for (const buffer of message.buffers) {\n",
              "            buffers.push(buffer);\n",
              "            downloaded += buffer.byteLength;\n",
              "            progress.value = downloaded;\n",
              "          }\n",
              "        }\n",
              "      }\n",
              "      const blob = new Blob(buffers, {type: 'application/binary'});\n",
              "      const a = document.createElement('a');\n",
              "      a.href = window.URL.createObjectURL(blob);\n",
              "      a.download = filename;\n",
              "      div.appendChild(a);\n",
              "      a.click();\n",
              "      div.remove();\n",
              "    }\n",
              "  "
            ]
          },
          "metadata": {}
        },
        {
          "output_type": "display_data",
          "data": {
            "text/plain": [
              "<IPython.core.display.Javascript object>"
            ],
            "application/javascript": [
              "download(\"download_5ffe282f-5798-49d8-ae38-76783568c6b4\", \"southdata.csv\", 1825)"
            ]
          },
          "metadata": {}
        }
      ]
    },
    {
      "cell_type": "markdown",
      "source": [
        "# [Exercise 2.3]\n",
        "\n",
        "To be published on Day 3"
      ],
      "metadata": {
        "id": "kqdpoaBjZk2j"
      }
    },
    {
      "cell_type": "code",
      "source": [
        ""
      ],
      "metadata": {
        "id": "bu5ihsS9aTRc"
      },
      "execution_count": null,
      "outputs": []
    }
  ]
}